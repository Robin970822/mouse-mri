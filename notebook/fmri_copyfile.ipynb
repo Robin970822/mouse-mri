{
 "cells": [
  {
   "cell_type": "code",
   "execution_count": 1,
   "metadata": {},
   "outputs": [],
   "source": [
    "import os\n",
    "import shutil\n",
    "import pandas as pd"
   ]
  },
  {
   "cell_type": "code",
   "execution_count": 2,
   "metadata": {},
   "outputs": [],
   "source": [
    "root = 'E:/FDU/ISTBI/fMRI/'\n",
    "metric = 'ALFF'\n",
    "metric_list = ['ALFFMap', 'mALFFMap', 'zALFFMap', 'fALFFMap']\n",
    "metric_list = ['mALFFMap']"
   ]
  },
  {
   "cell_type": "code",
   "execution_count": 3,
   "metadata": {},
   "outputs": [],
   "source": [
    "scan_info = pd.read_excel(os.path.join(root, 'scan_info.xlsx'))\n",
    "fmri_info = scan_info[scan_info['ScanType'] == 'fMRI']"
   ]
  },
  {
   "cell_type": "code",
   "execution_count": 4,
   "metadata": {},
   "outputs": [],
   "source": [
    "for i, info in fmri_info.iterrows():\n",
    "    MouseIDSub = 'sub{:0>4d}'.format(info['MouseID'])\n",
    "    prefix = info['EnvironType'] + info['MouseGender']\n",
    "    subpath = os.path.join(root, 'pm2.5-offspring-mouse/{}/{}'.format(metric, prefix))\n",
    "    if not os.path.exists(subpath):\n",
    "        os.makedirs(subpath)\n",
    "    for metric_name in metric_list:\n",
    "        src_path = os.path.join(root, 'pm2.5-offspring-mouse/{}/rest/{}.nii'.format(MouseIDSub, metric_name))\n",
    "        dst_path = os.path.join(subpath, '{}_{}_{}.nii'.format(MouseIDSub, prefix, metric_name))\n",
    "        shutil.copyfile(src_path, dst_path)"
   ]
  },
  {
   "cell_type": "code",
   "execution_count": null,
   "metadata": {},
   "outputs": [],
   "source": []
  }
 ],
 "metadata": {
  "kernelspec": {
   "display_name": "Python 3",
   "language": "python",
   "name": "python3"
  },
  "language_info": {
   "codemirror_mode": {
    "name": "ipython",
    "version": 3
   },
   "file_extension": ".py",
   "mimetype": "text/x-python",
   "name": "python",
   "nbconvert_exporter": "python",
   "pygments_lexer": "ipython3",
   "version": "3.7.0"
  }
 },
 "nbformat": 4,
 "nbformat_minor": 2
}
