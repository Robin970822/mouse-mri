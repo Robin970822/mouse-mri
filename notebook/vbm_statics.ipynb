{
 "cells": [
  {
   "cell_type": "code",
   "execution_count": 1,
   "metadata": {},
   "outputs": [],
   "source": [
    "import pandas as pd\n",
    "from scipy import stats"
   ]
  },
  {
   "cell_type": "code",
   "execution_count": 2,
   "metadata": {},
   "outputs": [],
   "source": [
    "structure_info = pd.read_excel('structure_info.xlsx', index_col=0)"
   ]
  },
  {
   "cell_type": "code",
   "execution_count": 3,
   "metadata": {},
   "outputs": [],
   "source": [
    "fa_f_data = structure_info[(structure_info['MouseGender'] == 'f') & (structure_info['EnvironType'] == 'fa')]\n",
    "fa_m_data = structure_info[(structure_info['MouseGender'] == 'm') & (structure_info['EnvironType'] == 'fa')]\n",
    "cap_f_data = structure_info[(structure_info['MouseGender'] == 'f') & (structure_info['EnvironType'] == 'cap')]\n",
    "cap_m_data = structure_info[(structure_info['MouseGender'] == 'm') & (structure_info['EnvironType'] == 'cap')]"
   ]
  },
  {
   "cell_type": "code",
   "execution_count": 4,
   "metadata": {},
   "outputs": [],
   "source": [
    "def static_and_test(key):\n",
    "    _, pval = stats.normaltest(structure_info[key])\n",
    "    if pval > 0.05:\n",
    "        test = stats.ttest_ind\n",
    "    else:\n",
    "        test = stats.ranksums\n",
    "\n",
    "    [fa_f_cap_f, fa_m_cap_m, cap_f_cap_m, fa_f_fa_m] = list(map(\n",
    "        lambda x, y: test(x, y)[1], \n",
    "        [fa_f_data[key], fa_m_data[key], cap_f_data[key], fa_f_data[key]], \n",
    "        [cap_f_data[key], cap_m_data[key], cap_m_data[key], fa_m_data[key]]\n",
    "    ))\n",
    "\n",
    "    [fa_f_mean, fa_m_mean, cap_f_mean, cap_m_mean] = list(map(\n",
    "        lambda x: x.mean() / (20 ** 3), \n",
    "        [fa_f_data[key], fa_m_data[key], cap_f_data[key], cap_m_data[key]]\n",
    "    ))\n",
    "\n",
    "    [fa_f_std, fa_m_std, cap_f_std, cap_m_std] = list(map(\n",
    "        lambda x: x.std() / (20 ** 3), \n",
    "        [fa_f_data[key], fa_m_data[key], cap_f_data[key], cap_m_data[key]]\n",
    "    ))\n",
    "\n",
    "    static_dict = {\n",
    "        'region': key,\n",
    "\n",
    "        'fa_f_cap_f': fa_f_cap_f,\n",
    "        'fa_m_cap_m': fa_m_cap_m,\n",
    "        'cap_f_cap_m': cap_f_cap_m,\n",
    "        'fa_f_fa_m': fa_f_fa_m,\n",
    "\n",
    "        'fa_f_mean': fa_f_mean,\n",
    "        'fa_m_mean': fa_m_mean,\n",
    "        'cap_f_mean': cap_f_mean,\n",
    "        'cap_m_mean': cap_m_mean,\n",
    "\n",
    "        'fa_f_std': fa_f_std,\n",
    "        'fa_m_std': fa_m_std,\n",
    "        'cap_f_std': cap_f_std,\n",
    "        'cap_m_std': cap_m_std,\n",
    "    }\n",
    "    return static_dict"
   ]
  },
  {
   "cell_type": "code",
   "execution_count": 5,
   "metadata": {},
   "outputs": [],
   "source": [
    "region_keys = list(structure_info.keys()[8:])"
   ]
  },
  {
   "cell_type": "code",
   "execution_count": 6,
   "metadata": {},
   "outputs": [],
   "source": [
    "static_info = []\n",
    "for key in region_keys:\n",
    "    static_info.append(static_and_test(key))"
   ]
  },
  {
   "cell_type": "code",
   "execution_count": 7,
   "metadata": {},
   "outputs": [],
   "source": [
    "static_df = pd.DataFrame(static_info)"
   ]
  },
  {
   "cell_type": "code",
   "execution_count": 8,
   "metadata": {},
   "outputs": [],
   "source": [
    "static_df.to_excel('vbm_static.xlsx')"
   ]
  },
  {
   "cell_type": "code",
   "execution_count": 9,
   "metadata": {},
   "outputs": [],
   "source": [
    "# list(map(\n",
    "#     lambda x: static_df[static_df[x] < 0.05].to_excel('vbm_{}.xlsx'.format(x)),\n",
    "#     ['fa_f_cap_f', 'fa_m_cap_m', 'cap_f_cap_m', 'fa_f_fa_m']\n",
    "# ))\n",
    "# static_df[\n",
    "#     (static_df['fa_f_cap_f'] < 0.05) | (static_df['fa_m_cap_m'] < 0.05) | (static_df['cap_f_cap_m'] < 0.05) | (static_df['fa_f_fa_m'] < 0.05)\n",
    "# ].to_excel('vbm_static_significance.xlsx')"
   ]
  },
  {
   "cell_type": "code",
   "execution_count": null,
   "metadata": {},
   "outputs": [],
   "source": []
  },
  {
   "cell_type": "code",
   "execution_count": null,
   "metadata": {},
   "outputs": [],
   "source": []
  }
 ],
 "metadata": {
  "kernelspec": {
   "display_name": "Python 3",
   "language": "python",
   "name": "python3"
  },
  "language_info": {
   "codemirror_mode": {
    "name": "ipython",
    "version": 3
   },
   "file_extension": ".py",
   "mimetype": "text/x-python",
   "name": "python",
   "nbconvert_exporter": "python",
   "pygments_lexer": "ipython3",
   "version": "3.7.0"
  }
 },
 "nbformat": 4,
 "nbformat_minor": 2
}
