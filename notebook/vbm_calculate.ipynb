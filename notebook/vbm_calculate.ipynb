{
 "cells": [
  {
   "cell_type": "code",
   "execution_count": 1,
   "metadata": {},
   "outputs": [],
   "source": [
    "import os\n",
    "import pandas as pd\n",
    "import numpy as np\n",
    "from tqdm import tqdm\n",
    "from utils_mri import get_itk_array, get_itk_image, write_itk_imageArray\n",
    "\n",
    "def calculate_volume(data, atlas, label):\n",
    "    roi = (atlas == label).astype('uint8')\n",
    "    volume = np.sum(data * roi)\n",
    "    return volume\n",
    "\n",
    "def calculate_structure_volume(data, atlas, labels):\n",
    "    label_dict = {}\n",
    "    for i, structure in labels.iterrows():\n",
    "        if structure['left label'] == structure['right label']:\n",
    "            label_dict.update({structure['Structure']: calculate_volume(data, atlas, structure['left label'])})\n",
    "        else:\n",
    "            label_dict.update({\n",
    "                structure['Structure'] + '_left': calculate_volume(data, atlas, structure['left label']),\n",
    "                structure['Structure'] + '_right': calculate_volume(data, atlas, structure['right label']),\n",
    "            })\n",
    "    return label_dict\n",
    "\n",
    "def refine_atlas(atlas, labels):\n",
    "    new_atlas = np.zeros_like(atlas)\n",
    "    for i, structure in labels.iterrows():\n",
    "        if structure['left label'] == structure['right label']:\n",
    "            new_atlas += (atlas == structure['left label']).astype('uint8') * structure['left label']\n",
    "        else:\n",
    "            new_atlas += (atlas == structure['left label']).astype('uint8') * structure['left label']\n",
    "            new_atlas += (atlas == structure['right label']).astype('uint8') * structure['right label']\n",
    "    return new_atlas"
   ]
  },
  {
   "cell_type": "code",
   "execution_count": 2,
   "metadata": {},
   "outputs": [],
   "source": [
    "root = 'E:/FDU/ISTBI/fMRI/'"
   ]
  },
  {
   "cell_type": "code",
   "execution_count": 3,
   "metadata": {},
   "outputs": [],
   "source": [
    "labels = pd.read_csv(os.path.join(root, 'fd_Dorr/c57_brain_atlas_labels.csv'), index_col=0)\n",
    "atlas = get_itk_array(os.path.join(root, 'fd_Dorr/Dorr_Turone_brain/dorr2turone_labels_refine.nii'))"
   ]
  },
  {
   "cell_type": "code",
   "execution_count": 4,
   "metadata": {},
   "outputs": [],
   "source": [
    "scan_info = pd.read_excel(os.path.join(root, 'scan_info.xlsx'))\n",
    "structure_info = scan_info[scan_info['ScanType'] == 'T1']"
   ]
  },
  {
   "cell_type": "code",
   "execution_count": 5,
   "metadata": {},
   "outputs": [],
   "source": [
    "info_list = []\n",
    "for i, info in structure_info.iterrows():\n",
    "    MouseIDSub = 'sub{:0>4d}'.format(info['MouseID'])\n",
    "    c1_path = os.path.join(root, 'pm2.5-offspring-mouse/{}/T2/mwc1mT2.nii'.format(MouseIDSub))\n",
    "    c1 = get_itk_array(c1_path)\n",
    "    label_dict = calculate_structure_volume(c1, atlas, labels)\n",
    "    new_info = dict(info)\n",
    "    new_info.update(label_dict)\n",
    "    info_list.append(new_info)"
   ]
  },
  {
   "cell_type": "code",
   "execution_count": 6,
   "metadata": {},
   "outputs": [],
   "source": [
    "info_pd = pd.DataFrame(info_list)"
   ]
  },
  {
   "cell_type": "code",
   "execution_count": 7,
   "metadata": {},
   "outputs": [],
   "source": [
    "info_pd.to_excel('structure_info.xlsx')"
   ]
  },
  {
   "cell_type": "code",
   "execution_count": 8,
   "metadata": {},
   "outputs": [],
   "source": [
    "# new_atlas = refine_atlas(atlas, labels)\n",
    "# write_itk_imageArray(new_atlas, os.path.join(root, 'fd_Dorr/Dorr_Turone_brain/dorr2turone_labels_refine_refine.nii'), get_itk_image(os.path.join(root, 'fd_Dorr/Dorr_Turone_brain/dorr2turone_labels_refine.nii')))"
   ]
  },
  {
   "cell_type": "code",
   "execution_count": null,
   "metadata": {},
   "outputs": [],
   "source": []
  }
 ],
 "metadata": {
  "kernelspec": {
   "display_name": "Python 3",
   "language": "python",
   "name": "python3"
  },
  "language_info": {
   "codemirror_mode": {
    "name": "ipython",
    "version": 3
   },
   "file_extension": ".py",
   "mimetype": "text/x-python",
   "name": "python",
   "nbconvert_exporter": "python",
   "pygments_lexer": "ipython3",
   "version": "3.7.0"
  }
 },
 "nbformat": 4,
 "nbformat_minor": 2
}
