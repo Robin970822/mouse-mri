{
 "cells": [
  {
   "cell_type": "code",
   "execution_count": 1,
   "metadata": {},
   "outputs": [],
   "source": [
    "import os\n",
    "import cv2\n",
    "import cc3d\n",
    "import numpy as np\n",
    "\n",
    "from matplotlib import pyplot as plt\n",
    "from tqdm import tqdm\n",
    "\n",
    "from utils_mri import get_itk_array, get_itk_image, write_itk_imageArray\n",
    "\n",
    "\n",
    "def remove_small_region_from_label(label, connectivity=26):\n",
    "    labels_out, N = cc3d.connected_components(label, connectivity=connectivity, return_N=True)\n",
    "    max_volume = 0\n",
    "    n = 0\n",
    "    for segid in range(1, N+1):\n",
    "        extracted_image = labels_out * (labels_out == segid)\n",
    "        volume = np.sum(extracted_image)\n",
    "        if volume > max_volume:\n",
    "            max_volume = volume\n",
    "            n = segid\n",
    "    label_out = (labels_out == n).astype('uint8')\n",
    "    return label_out"
   ]
  },
  {
   "cell_type": "code",
   "execution_count": 2,
   "metadata": {},
   "outputs": [],
   "source": [
    "root = 'E:/FDU/ISTBI/fMRI/fd_Dorr/Dorr_Turone_brain'"
   ]
  },
  {
   "cell_type": "code",
   "execution_count": 3,
   "metadata": {},
   "outputs": [],
   "source": [
    "label_array = get_itk_array(os.path.join(root, 'dorr2turone_labels.nii')).astype('uint8')\n",
    "labels = np.unique(label_array)\n",
    "labels_out = np.zeros_like(label_array)"
   ]
  },
  {
   "cell_type": "code",
   "execution_count": 4,
   "metadata": {},
   "outputs": [
    {
     "name": "stderr",
     "output_type": "stream",
     "text": [
      "100%|████████████████████████████████████████████████████████████████████████████████████████████████████████████████████████████████████████████████████████████████████████████████████████████████████████████████████████████████████████████████| 251/251 [32:50<00:00,  7.85s/it]\n"
     ]
    }
   ],
   "source": [
    "for l in tqdm(labels):\n",
    "    l_label = (label_array == l).astype('uint8')\n",
    "    label_out = remove_small_region_from_label(l_label)\n",
    "    label_out *= l\n",
    "    labels_out += label_out"
   ]
  },
  {
   "cell_type": "code",
   "execution_count": 5,
   "metadata": {},
   "outputs": [],
   "source": [
    "# write_itk_imageArray(labels_out, os.path.join(root, 'dorr2turone_labels_refine.nii'), get_itk_image(os.path.join(root, 'dorr2turone_labels.nii')))"
   ]
  },
  {
   "cell_type": "code",
   "execution_count": 6,
   "metadata": {},
   "outputs": [],
   "source": [
    "write_itk_imageArray(labels_out, os.path.join(root, 'dorr2turone_labels_refine.nii'), get_itk_image(os.path.join(root, 'dorr2turone_labels.nii')))"
   ]
  },
  {
   "cell_type": "code",
   "execution_count": null,
   "metadata": {},
   "outputs": [],
   "source": []
  }
 ],
 "metadata": {
  "kernelspec": {
   "display_name": "Python 3",
   "language": "python",
   "name": "python3"
  },
  "language_info": {
   "codemirror_mode": {
    "name": "ipython",
    "version": 3
   },
   "file_extension": ".py",
   "mimetype": "text/x-python",
   "name": "python",
   "nbconvert_exporter": "python",
   "pygments_lexer": "ipython3",
   "version": "3.7.0"
  }
 },
 "nbformat": 4,
 "nbformat_minor": 2
}